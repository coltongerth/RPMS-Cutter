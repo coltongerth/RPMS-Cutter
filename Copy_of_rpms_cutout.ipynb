{
  "cells": [
    {
      "cell_type": "markdown",
      "metadata": {
        "id": "view-in-github",
        "colab_type": "text"
      },
      "source": [
        "<a href=\"https://colab.research.google.com/github/coltongerth/RPMS-Cutter/blob/main/Copy_of_rpms_cutout.ipynb\" target=\"_parent\"><img src=\"https://colab.research.google.com/assets/colab-badge.svg\" alt=\"Open In Colab\"/></a>"
      ]
    },
    {
      "cell_type": "markdown",
      "metadata": {
        "id": "zV9F2ZM1cPAr"
      },
      "source": [
        "These are some libraries that will need to be downloaded if the next cell throws some ModuleNotFound errors. Delete the # of the line who is missing and run the cell."
      ]
    },
    {
      "cell_type": "code",
      "execution_count": null,
      "metadata": {
        "id": "wGPg8UcRXf78"
      },
      "outputs": [],
      "source": [
        "%%capture\n",
        "!pip install rasterio\n",
        "!pip install rioxarray\n",
        "!pip install ipyleaflet\n",
        "!pip install dask\n",
        "!pip install dask[distributed]\n",
        "!pip install xarray"
      ]
    },
    {
      "cell_type": "markdown",
      "metadata": {
        "id": "oif09S5JJCOv"
      },
      "source": [
        "# **Library Imports and Back End Setup**\n",
        "Nothing needs to be changed here, this cell just imports all the libraries our code needs to run, and gets Google Drive mounted to this notebook.\n",
        "\n",
        "You **will** need to approve this notebook to having access to your local Google Drive, it will be a little pop up when this cell gets run!"
      ]
    },
    {
      "cell_type": "code",
      "execution_count": null,
      "metadata": {
        "id": "xy5qkuvOUDnW",
        "outputId": "09045f47-5aa7-4c7e-8dc0-8accc9d884bf",
        "colab": {
          "base_uri": "https://localhost:8080/"
        }
      },
      "outputs": [
        {
          "output_type": "stream",
          "name": "stdout",
          "text": [
            "Drive already mounted at /content/gdrive; to attempt to forcibly remount, call drive.mount(\"/content/gdrive\", force_remount=True).\n"
          ]
        }
      ],
      "source": [
        "import os\n",
        "import datetime\n",
        "import numpy as np\n",
        "import xarray as xr\n",
        "import pandas as pd\n",
        "import rasterio\n",
        "import rioxarray\n",
        "import dask\n",
        "import tempfile\n",
        "from rasterio.coords import BoundingBox\n",
        "from ipyleaflet import *\n",
        "from google.cloud import storage\n",
        "from dask.distributed import Client, LocalCluster, Lock, as_completed, fire_and_forget\n",
        "from google.colab import drive\n",
        "\n",
        "drive.mount('/content/gdrive')\n",
        "# cluster = LocalCluster(n_workers=8, processes=True)\n",
        "# client = Client(cluster)\n",
        "path_template = \"https://storage.googleapis.com/fuelcast-public/rpms/\""
      ]
    },
    {
      "cell_type": "markdown",
      "metadata": {
        "id": "Do0mcJiNb2To"
      },
      "source": [
        "# **Inputs**\n",
        "\n",
        "start_year: The beginning year of the range.\n",
        "\n",
        "end_year: The ending year of the range.\n",
        "\n",
        "raster_file: The name of the file you dropped into the file space to the left.\n",
        "\n",
        "**(Optional)** poly_coords: A list of coordinates. This can be typed in manually, but it is highly recommended that you use the drawing tool below."
      ]
    },
    {
      "cell_type": "code",
      "execution_count": null,
      "metadata": {
        "id": "HAam3WVMU1O0"
      },
      "outputs": [],
      "source": [
        "start_year = 2022\n",
        "end_year = 2022\n",
        "# Can look like: \"degradation_bpslut4_bpslut4_wgs84.tif\" if dragged and dropped on the left. OR if in gdrive already: \"gdrive/MyDrive/degradation_bpslut4_bpslut4_wgs84.tif\"\n",
        "file_name = \"NNFGbuff.tif\"\n",
        "prefix = \"julia-test-nnfg1\"\n",
        "poly_coords = {\"coords\":[]}\n",
        "nodata = -32768"
      ]
    },
    {
      "cell_type": "markdown",
      "metadata": {
        "id": "T6QTRpU0XdIg"
      },
      "source": [
        "# **Optional geometry drawing tool**\n",
        "Use this tool if you need a slice of the incoming raster instead of the entire one. If you dont need it, you dont need to run this cell."
      ]
    },
    {
      "cell_type": "code",
      "execution_count": null,
      "metadata": {
        "id": "nFHsP2KGXJTy",
        "outputId": "98eda718-a97a-4dff-e836-6d89a608fa3d",
        "colab": {
          "base_uri": "https://localhost:8080/",
          "height": 456,
          "referenced_widgets": [
            "539a9e595347484eb2f0441e03d2f994",
            "b53fad040d3b4d68993d9a46f47a1bbb",
            "39c01ec9025745eaa2aaf40d1f5f548c",
            "6db765610a8f480098b035f8a36a7057",
            "d4c86ae47d4a465287e3ee7a30f57c76",
            "3ac7378072214de3a919d3590d616b93",
            "2a3cad3278de4d7aa54b9e8ee33f24fe",
            "93c37a33a7414039997e475db5e3a229",
            "d6b954d65ecf4b4e86e9751dc39d1cdc"
          ]
        }
      },
      "outputs": [
        {
          "output_type": "display_data",
          "data": {
            "text/plain": [
              "Map(center=[38, -97], controls=(ZoomControl(options=['position', 'zoom_in_text', 'zoom_in_title', 'zoom_out_te…"
            ],
            "application/vnd.jupyter.widget-view+json": {
              "version_major": 2,
              "version_minor": 0,
              "model_id": "539a9e595347484eb2f0441e03d2f994"
            }
          },
          "metadata": {
            "application/vnd.jupyter.widget-view+json": {
              "colab": {
                "custom_widget_manager": {
                  "url": "https://ssl.gstatic.com/colaboratory-static/widgets/colab-cdn-widget-manager/2b70e893a8ba7c0f/manager.min.js"
                }
              }
            }
          }
        },
        {
          "output_type": "stream",
          "name": "stdout",
          "text": [
            "{'coords': [[-105.512695, 40.178873], [-105.512695, 46.073231], [-95.844727, 46.073231], [-95.844727, 40.178873], [-105.512695, 40.178873]]}\n",
            "Done generating coordinates.\n"
          ]
        }
      ],
      "source": [
        "zone_map = Map(center=(38, -97),\n",
        "                zoom=5,\n",
        "                basemap=basemap_to_tiles(basemaps.OpenStreetMap.Mapnik))\n",
        "\n",
        "draw_control = DrawControl(\n",
        "    rectangle= {\n",
        "        \"fillColor\": \"#fca45d\",\n",
        "        \"color\": \"#fca45d\",\n",
        "        \"fillOpacity\": 0.2\n",
        "    },\n",
        "    polygon={},\n",
        "    polyline={},\n",
        "    circlemarker={}\n",
        "    )\n",
        "\n",
        "zone_map.add_control(draw_control)\n",
        "\n",
        "def handle_draw(self, action, geo_json):\n",
        "    poly_coords[\"coords\"] = draw_control.last_draw['geometry']['coordinates'][0]\n",
        "    print(poly_coords)\n",
        "    print(\"Done generating coordinates.\")\n",
        "    return poly_coords\n",
        "\n",
        "draw_control.on_draw(handle_draw)\n",
        "\n",
        "\n",
        "zone_map"
      ]
    },
    {
      "cell_type": "markdown",
      "metadata": {
        "id": "pQKcx1GrDnVQ"
      },
      "source": [
        "# **RPMS Extractor**\n",
        "You don't need to change anything in here, just let the cell run."
      ]
    },
    {
      "cell_type": "code",
      "execution_count": null,
      "metadata": {
        "id": "6BqowECVVZ5Q",
        "outputId": "61f52aa7-c122-409d-a066-080699cc4b23",
        "colab": {
          "base_uri": "https://localhost:8080/"
        }
      },
      "outputs": [
        {
          "output_type": "stream",
          "name": "stdout",
          "text": [
            "Generating boundary with drawn geometry\n"
          ]
        }
      ],
      "source": [
        "def pol_to_np(pol):\n",
        "    \"\"\"\n",
        "    Receives list of coordinates: [[x1,y1],[x2,y2],...,[xN,yN]]\n",
        "    \"\"\"\n",
        "    return np.array([list(l) for l in pol])\n",
        "\n",
        "def pol_to_bounding_box(pol):\n",
        "    \"\"\"\n",
        "    Receives list of coordinates: [[x1,y1],[x2,y2],...,[xN,yN]]\n",
        "    \"\"\"\n",
        "    arr = pol_to_np(pol)\n",
        "    return BoundingBox(np.min(arr[:,0]),\n",
        "                       np.min(arr[:,1]),\n",
        "                       np.max(arr[:,0]),\n",
        "                       np.max(arr[:,1]))\n",
        "\n",
        "with rasterio.Env():\n",
        "  zone_ds = rasterio.open(\"/content/\" + file_name)\n",
        "  if poly_coords[\"coords\"] != []:\n",
        "    print(\"Generating boundary with drawn geometry\")\n",
        "    bounds = pol_to_bounding_box(poly_coords[\"coords\"])\n",
        "  else:\n",
        "    print(\"Generating boundary with imported raster's dimensions\")\n",
        "    bounds = zone_ds.bounds\n",
        "\n",
        "  profile = zone_ds.profile\n",
        "  profile.update(blockxsize=1024,\n",
        "                 blockysize=1024,\n",
        "                 dtype = \"int16\",\n",
        "                 nodata = nodata,\n",
        "                 tiled=True)\n",
        "\n",
        "  for y in range(start_year, end_year+1):\n",
        "      dx = rasterio.open(\"https://storage.googleapis.com/fuelcast-public/rpms/\" + str(y) + \"/rpms_\" + str(y) + \".tif\")\n",
        "      op = f\"rpms_{str(y)}_mean.tif\"\n",
        "      with rasterio.open('/content/gdrive/MyDrive/'+ prefix + \"_\" + 'rpms_'+str(y)+'.tif', 'w', **profile) as dst:\n",
        "        win = dx.window(bottom=bounds.bottom, right=bounds.right, top=bounds.top, left=bounds.left)\n",
        "        dat = dx.read(1, window=win)\n",
        "        dst.write_band(1, dat)"
      ]
    }
  ],
  "metadata": {
    "colab": {
      "provenance": [],
      "include_colab_link": true
    },
    "kernelspec": {
      "display_name": "Python 3",
      "name": "python3"
    },
    "language_info": {
      "name": "python"
    },
    "widgets": {
      "application/vnd.jupyter.widget-state+json": {
        "539a9e595347484eb2f0441e03d2f994": {
          "model_module": "jupyter-leaflet",
          "model_name": "LeafletMapModel",
          "model_module_version": "^0.19",
          "state": {
            "_dom_classes": [],
            "_model_module": "jupyter-leaflet",
            "_model_module_version": "^0.19",
            "_model_name": "LeafletMapModel",
            "_view_count": null,
            "_view_module": "jupyter-leaflet",
            "_view_module_version": "^0.19",
            "_view_name": "LeafletMapView",
            "bottom": 3228,
            "bounce_at_zoom_limits": true,
            "box_zoom": true,
            "center": [
              42.42345651793833,
              -89.3408203125
            ],
            "close_popup_on_click": true,
            "controls": [
              "IPY_MODEL_b53fad040d3b4d68993d9a46f47a1bbb",
              "IPY_MODEL_39c01ec9025745eaa2aaf40d1f5f548c",
              "IPY_MODEL_6db765610a8f480098b035f8a36a7057"
            ],
            "crs": {
              "name": "EPSG3857",
              "custom": false
            },
            "default_style": "IPY_MODEL_d4c86ae47d4a465287e3ee7a30f57c76",
            "double_click_zoom": true,
            "dragging": true,
            "dragging_style": "IPY_MODEL_3ac7378072214de3a919d3590d616b93",
            "east": -50.14160156250001,
            "fullscreen": false,
            "inertia": true,
            "inertia_deceleration": 3000,
            "inertia_max_speed": 1500,
            "interpolation": "bilinear",
            "keyboard": true,
            "keyboard_pan_offset": 80,
            "keyboard_zoom_offset": 1,
            "layers": [
              "IPY_MODEL_2a3cad3278de4d7aa54b9e8ee33f24fe"
            ],
            "layout": "IPY_MODEL_93c37a33a7414039997e475db5e3a229",
            "left": 1171,
            "max_zoom": null,
            "min_zoom": null,
            "modisdate": "2024-09-22",
            "north": 48.574789910928864,
            "options": [
              "bounce_at_zoom_limits",
              "box_zoom",
              "center",
              "close_popup_on_click",
              "double_click_zoom",
              "dragging",
              "fullscreen",
              "inertia",
              "inertia_deceleration",
              "inertia_max_speed",
              "interpolation",
              "keyboard",
              "keyboard_pan_offset",
              "keyboard_zoom_offset",
              "max_zoom",
              "min_zoom",
              "prefer_canvas",
              "scroll_wheel_zoom",
              "tap",
              "tap_tolerance",
              "touch_zoom",
              "world_copy_jump",
              "zoom",
              "zoom_animation_threshold",
              "zoom_delta",
              "zoom_snap"
            ],
            "panes": {},
            "prefer_canvas": false,
            "right": 2955,
            "scroll_wheel_zoom": false,
            "south": 35.60371874069731,
            "style": "IPY_MODEL_d4c86ae47d4a465287e3ee7a30f57c76",
            "tap": true,
            "tap_tolerance": 15,
            "top": 2828,
            "touch_zoom": true,
            "west": -128.54003906250003,
            "window_url": "https://hp5zseio57b-496ff2e9c6d22116-0-colab.googleusercontent.com/outputframe.html?vrz=colab_20240920-060127_RC00_676789073",
            "world_copy_jump": false,
            "zoom": 5,
            "zoom_animation_threshold": 4,
            "zoom_delta": 1,
            "zoom_snap": 1
          }
        },
        "b53fad040d3b4d68993d9a46f47a1bbb": {
          "model_module": "jupyter-leaflet",
          "model_name": "LeafletZoomControlModel",
          "model_module_version": "^0.19",
          "state": {
            "_model_module": "jupyter-leaflet",
            "_model_module_version": "^0.19",
            "_model_name": "LeafletZoomControlModel",
            "_view_count": null,
            "_view_module": "jupyter-leaflet",
            "_view_module_version": "^0.19",
            "_view_name": "LeafletZoomControlView",
            "options": [
              "position",
              "zoom_in_text",
              "zoom_in_title",
              "zoom_out_text",
              "zoom_out_title"
            ],
            "position": "topleft",
            "zoom_in_text": "+",
            "zoom_in_title": "Zoom in",
            "zoom_out_text": "-",
            "zoom_out_title": "Zoom out"
          }
        },
        "39c01ec9025745eaa2aaf40d1f5f548c": {
          "model_module": "jupyter-leaflet",
          "model_name": "LeafletAttributionControlModel",
          "model_module_version": "^0.19",
          "state": {
            "_model_module": "jupyter-leaflet",
            "_model_module_version": "^0.19",
            "_model_name": "LeafletAttributionControlModel",
            "_view_count": null,
            "_view_module": "jupyter-leaflet",
            "_view_module_version": "^0.19",
            "_view_name": "LeafletAttributionControlView",
            "options": [
              "position",
              "prefix"
            ],
            "position": "bottomright",
            "prefix": "ipyleaflet"
          }
        },
        "6db765610a8f480098b035f8a36a7057": {
          "model_module": "jupyter-leaflet",
          "model_name": "LeafletDrawControlModel",
          "model_module_version": "^0.19",
          "state": {
            "_model_module": "jupyter-leaflet",
            "_model_module_version": "^0.19",
            "_model_name": "LeafletDrawControlModel",
            "_view_count": null,
            "_view_module": "jupyter-leaflet",
            "_view_module_version": "^0.19",
            "_view_name": "LeafletDrawControlView",
            "circle": {},
            "circlemarker": {},
            "data": [
              {
                "type": "Feature",
                "properties": {
                  "style": {
                    "stroke": true,
                    "color": "#3388ff",
                    "weight": 4,
                    "opacity": 0.5,
                    "fill": true,
                    "fillColor": null,
                    "fillOpacity": 0.2,
                    "clickable": true
                  }
                },
                "geometry": {
                  "type": "Polygon",
                  "coordinates": [
                    [
                      [
                        -105.512695,
                        40.178873
                      ],
                      [
                        -105.512695,
                        46.073231
                      ],
                      [
                        -95.844727,
                        46.073231
                      ],
                      [
                        -95.844727,
                        40.178873
                      ],
                      [
                        -105.512695,
                        40.178873
                      ]
                    ]
                  ]
                }
              }
            ],
            "edit": true,
            "marker": {},
            "options": [
              "position"
            ],
            "polygon": {},
            "polyline": {},
            "position": "topleft",
            "rectangle": {
              "fillColor": "#fca45d",
              "color": "#fca45d",
              "fillOpacity": 0.2
            },
            "remove": true
          }
        },
        "d4c86ae47d4a465287e3ee7a30f57c76": {
          "model_module": "jupyter-leaflet",
          "model_name": "LeafletMapStyleModel",
          "model_module_version": "^0.19",
          "state": {
            "_model_module": "jupyter-leaflet",
            "_model_module_version": "^0.19",
            "_model_name": "LeafletMapStyleModel",
            "_view_count": null,
            "_view_module": "@jupyter-widgets/base",
            "_view_module_version": "1.2.0",
            "_view_name": "StyleView",
            "cursor": "grab"
          }
        },
        "3ac7378072214de3a919d3590d616b93": {
          "model_module": "jupyter-leaflet",
          "model_name": "LeafletMapStyleModel",
          "model_module_version": "^0.19",
          "state": {
            "_model_module": "jupyter-leaflet",
            "_model_module_version": "^0.19",
            "_model_name": "LeafletMapStyleModel",
            "_view_count": null,
            "_view_module": "@jupyter-widgets/base",
            "_view_module_version": "1.2.0",
            "_view_name": "StyleView",
            "cursor": "move"
          }
        },
        "2a3cad3278de4d7aa54b9e8ee33f24fe": {
          "model_module": "jupyter-leaflet",
          "model_name": "LeafletTileLayerModel",
          "model_module_version": "^0.19",
          "state": {
            "_model_module": "jupyter-leaflet",
            "_model_module_version": "^0.19",
            "_model_name": "LeafletTileLayerModel",
            "_view_count": null,
            "_view_module": "jupyter-leaflet",
            "_view_module_version": "^0.19",
            "_view_name": "LeafletTileLayerView",
            "attribution": "&copy; <a href=\"https://www.openstreetmap.org/copyright\">OpenStreetMap</a> contributors",
            "base": true,
            "bottom": true,
            "bounds": null,
            "detect_retina": false,
            "loading": false,
            "max_native_zoom": null,
            "max_zoom": 19,
            "min_native_zoom": null,
            "min_zoom": 1,
            "name": "OpenStreetMap.Mapnik",
            "no_wrap": false,
            "opacity": 1,
            "options": [
              "attribution",
              "bounds",
              "detect_retina",
              "max_native_zoom",
              "max_zoom",
              "min_native_zoom",
              "min_zoom",
              "no_wrap",
              "tile_size",
              "tms",
              "zoom_offset"
            ],
            "pane": "",
            "popup": null,
            "popup_max_height": null,
            "popup_max_width": 300,
            "popup_min_width": 50,
            "show_loading": false,
            "subitems": [],
            "tile_size": 256,
            "tms": false,
            "url": "https://tile.openstreetmap.org/{z}/{x}/{y}.png",
            "visible": true,
            "zoom_offset": 0
          }
        },
        "93c37a33a7414039997e475db5e3a229": {
          "model_module": "@jupyter-widgets/base",
          "model_name": "LayoutModel",
          "model_module_version": "1.2.0",
          "state": {
            "_model_module": "@jupyter-widgets/base",
            "_model_module_version": "1.2.0",
            "_model_name": "LayoutModel",
            "_view_count": null,
            "_view_module": "@jupyter-widgets/base",
            "_view_module_version": "1.2.0",
            "_view_name": "LayoutView",
            "align_content": null,
            "align_items": null,
            "align_self": null,
            "border": null,
            "bottom": null,
            "display": null,
            "flex": null,
            "flex_flow": null,
            "grid_area": null,
            "grid_auto_columns": null,
            "grid_auto_flow": null,
            "grid_auto_rows": null,
            "grid_column": null,
            "grid_gap": null,
            "grid_row": null,
            "grid_template_areas": null,
            "grid_template_columns": null,
            "grid_template_rows": null,
            "height": null,
            "justify_content": null,
            "justify_items": null,
            "left": null,
            "margin": null,
            "max_height": null,
            "max_width": null,
            "min_height": null,
            "min_width": null,
            "object_fit": null,
            "object_position": null,
            "order": null,
            "overflow": null,
            "overflow_x": null,
            "overflow_y": null,
            "padding": null,
            "right": null,
            "top": null,
            "visibility": null,
            "width": null
          }
        },
        "d6b954d65ecf4b4e86e9751dc39d1cdc": {
          "model_module": "jupyter-leaflet",
          "model_name": "LeafletMapStyleModel",
          "model_module_version": "^0.19",
          "state": {
            "_model_module": "jupyter-leaflet",
            "_model_module_version": "^0.19",
            "_model_name": "LeafletMapStyleModel",
            "_view_count": null,
            "_view_module": "@jupyter-widgets/base",
            "_view_module_version": "1.2.0",
            "_view_name": "StyleView",
            "cursor": "grab"
          }
        }
      }
    }
  },
  "nbformat": 4,
  "nbformat_minor": 0
}